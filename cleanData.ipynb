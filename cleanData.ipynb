{
 "cells": [
  {
   "cell_type": "code",
   "execution_count": 32,
   "id": "fafd9ecd",
   "metadata": {},
   "outputs": [],
   "source": [
    "#clean up data on trump's tweets, as found at https://www.thetrumparchive.com/\n",
    "#@authors: apata68 & NicoDiLullo\n",
    "#take all data and turn into something we can use for Markov chains or other cool data modelling\n",
    "import numpy as np\n",
    "import pandas as pd"
   ]
  },
  {
   "cell_type": "code",
   "execution_count": 33,
   "id": "eefe1d3a",
   "metadata": {},
   "outputs": [],
   "source": [
    "#read in data\n",
    "tweets = pd.read_csv('trumpTweets.csv')\n",
    "#make data a Pandas dataframe\n",
    "tweetsDF = pd.DataFrame(tweets)"
   ]
  },
  {
   "cell_type": "code",
   "execution_count": 34,
   "id": "bfae3a5d",
   "metadata": {},
   "outputs": [],
   "source": [
    "#drop columns we don't need\n",
    "tweetsDF = tweetsDF.drop(axis = 1, columns = 'retweets')\n",
    "tweetsDF = tweetsDF.drop('isFlagged', axis = 1)\n",
    "tweetsDF = tweetsDF.drop('isDeleted', axis = 1)\n",
    "tweetsDF = tweetsDF.drop('date', axis = 1)\n",
    "tweetsDF = tweetsDF.drop('id', axis = 1)\n",
    "tweetsDF = tweetsDF.drop('device', axis = 1)\n",
    "tweetsDF = tweetsDF.drop('favorites', axis = 1)"
   ]
  },
  {
   "cell_type": "code",
   "execution_count": 37,
   "id": "3f1af977",
   "metadata": {},
   "outputs": [],
   "source": [
    "\n",
    "#drop retweets\n",
    "tweetsDF = tweetsDF[tweetsDF['isRetweet'] != 't']\n",
    "tweetsDF = tweetsDF.drop('isRetweet', axis = 1)\n",
    "#drop links/quote tweets or images/other media\n",
    "tweetsDF = tweetsDF[tweetsDF['text'].str.contains(\"https://t.co/\")==False]\n"
   ]
  },
  {
   "cell_type": "code",
   "execution_count": 40,
   "id": "a47d77da",
   "metadata": {},
   "outputs": [],
   "source": [
    "tweetsDF.to_csv('finalTrump.csv')\n",
    "tweetsDF['text'].to_csv('tweetsAsText.txt', sep=\"\\n\", index=False)"
   ]
  }
 ],
 "metadata": {
  "kernelspec": {
   "display_name": "Python 3",
   "language": "python",
   "name": "python3"
  },
  "language_info": {
   "codemirror_mode": {
    "name": "ipython",
    "version": 3
   },
   "file_extension": ".py",
   "mimetype": "text/x-python",
   "name": "python",
   "nbconvert_exporter": "python",
   "pygments_lexer": "ipython3",
   "version": "3.8.8"
  }
 },
 "nbformat": 4,
 "nbformat_minor": 5
}
